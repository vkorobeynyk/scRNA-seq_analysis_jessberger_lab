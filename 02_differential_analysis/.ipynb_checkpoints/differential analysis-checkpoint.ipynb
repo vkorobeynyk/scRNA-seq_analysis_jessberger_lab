{
 "cells": [
  {
   "cell_type": "code",
   "execution_count": null,
   "metadata": {
    "ExecuteTime": {
     "end_time": "2020-01-21T13:04:12.959364Z",
     "start_time": "2020-01-21T13:04:03.699Z"
    }
   },
   "outputs": [],
   "source": [
    "library(Seurat)\n",
    "library(edgeR)\n",
    "library(dplyr)"
   ]
  },
  {
   "cell_type": "code",
   "execution_count": null,
   "metadata": {
    "ExecuteTime": {
     "end_time": "2020-01-21T13:04:55.288619Z",
     "start_time": "2020-01-21T13:04:52.985Z"
    }
   },
   "outputs": [],
   "source": [
    "# Load SO\n",
    "load(\"../data/SO_Gli_Ascl_comb_int.Robj\")"
   ]
  },
  {
   "cell_type": "code",
   "execution_count": null,
   "metadata": {
    "ExecuteTime": {
     "end_time": "2020-01-21T13:07:51.389839Z",
     "start_time": "2020-01-21T13:07:53.127Z"
    }
   },
   "outputs": [],
   "source": [
    "# Create edgeR object\n",
    "edge_obj = DGEList(counts = as.matrix(pbmc.combined@assays$RNA@counts), samples = pbmc.combined@meta.data)"
   ]
  },
  {
   "cell_type": "code",
   "execution_count": null,
   "metadata": {
    "ExecuteTime": {
     "end_time": "2020-01-21T13:07:55.466733Z",
     "start_time": "2020-01-21T13:07:57.835Z"
    }
   },
   "outputs": [],
   "source": [
    "# Remove mithocondrial genes\n",
    "mit_genes = grep(\"^mt-\", rownames(edge_obj))\n",
    "edge_obj = edge_obj[-mit_genes,]"
   ]
  },
  {
   "cell_type": "code",
   "execution_count": null,
   "metadata": {
    "ExecuteTime": {
     "end_time": "2020-01-21T13:08:33.130055Z",
     "start_time": "2020-01-21T13:07:57.836Z"
    }
   },
   "outputs": [],
   "source": [
    "# Get gene annotation + gene length for further lst normalization\n",
    "# Use asia ensembl since european is under maintenance\n",
    "\n",
    "lst = list()\n",
    "lst$genes = edge_obj$counts %>% rownames\n",
    "lst$attributes = c(\"mgi_symbol\" , \"start_position\", \"end_position\")\n",
    "\n",
    "lst$bmart = biomaRt::useMart(biomart = \"ENSEMBL_MART_ENSEMBL\" , dataset = \"mmusculus_gene_ensembl\", \n",
    "            host = \"asia.ensembl.org\")\n",
    "\n",
    "feature_info = biomaRt::getBM(attributes = lst$attributes, filters = \"mgi_symbol\", \n",
    "        values = lst$genes, mart = lst$bmart)\n",
    "\n",
    "#keep genes which are not common to initial edge object and biomart result \n",
    "\n",
    "x = match(lst$genes, feature_info$mgi_symbol)\n",
    "feature_info = feature_info[x, ]\n",
    "feature_info = na.omit(feature_info)\n",
    "\n",
    "gene_meta_data = data.frame(id = feature_info$mgi_symbol, \n",
    "                            start_position = feature_info$start_position,\n",
    "                            end_position = feature_info$end_position,\n",
    "                            length = feature_info$end_position - feature_info$start_position)\n",
    "rownames(gene_meta_data) = gene_meta_data$id\n",
    "\n",
    "## Generating TPM counts\n",
    "edge_obj$counts = edge_obj$counts[feature_info$mgi_symbol,]\n",
    "x = edge_obj$counts / gene_meta_data[feature_info$mgi_symbol,'length']\n",
    "\n",
    "tpm = t(t(x) * 1e6 / colSums(x))\n"
   ]
  },
  {
   "cell_type": "code",
   "execution_count": null,
   "metadata": {
    "ExecuteTime": {
     "end_time": "2020-01-21T13:08:33.340380Z",
     "start_time": "2020-01-21T13:07:57.837Z"
    }
   },
   "outputs": [],
   "source": [
    "# Filtering genes with TMP > 1 and genes which are present in more than 25% of cells\n",
    "# as in https://www.nature.com/articles/nmeth.4612. TPMs because of the sequencing length bias https://f1000research.com/articles/6-595.\n",
    "keep = rowSums(tpm > 1) >= 0.25*ncol(edge_obj$counts)\n",
    "table(keep)\n",
    "edge_obj = edge_obj[keep,]"
   ]
  },
  {
   "cell_type": "code",
   "execution_count": null,
   "metadata": {
    "ExecuteTime": {
     "end_time": "2020-01-21T13:08:33.365262Z",
     "start_time": "2020-01-21T13:07:57.838Z"
    }
   },
   "outputs": [],
   "source": [
    "batch <- edge_obj$samples$batch_group\n",
    "genotype <- edge_obj$samples$type\n",
    "cluster <- edge_obj$samples$cluster"
   ]
  },
  {
   "cell_type": "code",
   "execution_count": null,
   "metadata": {
    "ExecuteTime": {
     "end_time": "2020-01-21T13:08:33.415633Z",
     "start_time": "2020-01-21T13:07:57.840Z"
    }
   },
   "outputs": [],
   "source": [
    "# Create 2 batches for design\n",
    "alt_batch =as.character(batch)\n",
    "alt_batch[alt_batch == 'Ascl1_12wk_1'] ='B1'\n",
    "alt_batch[alt_batch == 'Ascl1_12wk_2'] ='B2'\n",
    "alt_batch[alt_batch == 'Ascl1_5day_1'] ='B1'\n",
    "alt_batch[alt_batch == 'Ascl1_5day_2'] ='B2'\n",
    "alt_batch[alt_batch == 'Gli1_12wk']    ='B1'\n",
    "alt_batch[alt_batch == 'Gli1_5day_1']  ='B1'\n",
    "alt_batch[alt_batch == 'Gli1_5day_2']  ='B1'\n",
    "alt_batch =as.factor(alt_batch)\n",
    "table(alt_batch)\n",
    "\n",
    "design =model.matrix( ~0 + genotype + alt_batch)"
   ]
  },
  {
   "cell_type": "code",
   "execution_count": null,
   "metadata": {
    "ExecuteTime": {
     "end_time": "2020-01-21T13:34:04.923332Z",
     "start_time": "2020-01-21T13:34:07.226Z"
    }
   },
   "outputs": [],
   "source": [
    "?estimateDisp"
   ]
  },
  {
   "cell_type": "code",
   "execution_count": null,
   "metadata": {
    "ExecuteTime": {
     "end_time": "2020-01-21T13:34:22.433607Z",
     "start_time": "2020-01-21T13:34:24.673Z"
    }
   },
   "outputs": [],
   "source": [
    "?glmQLFit"
   ]
  },
  {
   "cell_type": "code",
   "execution_count": null,
   "metadata": {
    "ExecuteTime": {
     "end_time": "2020-01-21T13:27:40.739886Z",
     "start_time": "2020-01-21T13:26:27.876Z"
    }
   },
   "outputs": [],
   "source": [
    "# norm factors\n",
    "edge_obj <- calcNormFactors(edge_obj)\n",
    "# Perform generalized log-linear model with quasi-likelihood tests\n",
    "edge_obj <- estimateDisp(edge_obj, design)\n",
    "fit <- glmQLFit(edge_obj, design)"
   ]
  },
  {
   "cell_type": "code",
   "execution_count": null,
   "metadata": {
    "ExecuteTime": {
     "end_time": "2020-01-21T13:31:15.405657Z",
     "start_time": "2020-01-21T13:28:24.523Z"
    }
   },
   "outputs": [],
   "source": [
    "# multidimensional scaling plot that shows distances between samples\n",
    "limma::plotMDS(edge_obj, col = as.numeric(as.factor(edge_obj$samples$type)), pch = 19)"
   ]
  },
  {
   "cell_type": "code",
   "execution_count": null,
   "metadata": {
    "ExecuteTime": {
     "end_time": "2020-01-21T13:33:04.558601Z",
     "start_time": "2020-01-21T13:33:06.766Z"
    }
   },
   "outputs": [],
   "source": [
    "# Plot gene-wise biological coefficient of variantion + quasi-likelihood dispersion\n",
    "plotBCV(edge_obj)\n",
    "plotQLDisp(fit)"
   ]
  },
  {
   "cell_type": "code",
   "execution_count": null,
   "metadata": {
    "ExecuteTime": {
     "end_time": "2020-01-21T13:33:19.006367Z",
     "start_time": "2020-01-21T13:33:20.015Z"
    }
   },
   "outputs": [],
   "source": [
    "                    ## Comparing Gli and Ascl genotypes with glmQLF\n",
    "avsgli <- makeContrasts(genotypeAscl1-genotypeGli1, levels=design)\n",
    "qlf_genot <- glmQLFTest(fit, contrast=avsgli)"
   ]
  },
  {
   "cell_type": "code",
   "execution_count": null,
   "metadata": {
    "ExecuteTime": {
     "end_time": "2020-01-21T13:36:53.464189Z",
     "start_time": "2020-01-21T13:36:55.773Z"
    }
   },
   "outputs": [],
   "source": [
    "?topTags"
   ]
  },
  {
   "cell_type": "code",
   "execution_count": null,
   "metadata": {
    "ExecuteTime": {
     "end_time": "2020-01-21T13:36:34.718562Z",
     "start_time": "2020-01-21T13:36:37.214Z"
    }
   },
   "outputs": [],
   "source": [
    "tt_genot <- topTags(qlf_genot, adjust.method = 'BH', sort.by = 'PValue',\n",
    "                    n = 1e6, p.value = 0.05)\n",
    "tt_genot_df <- data.frame(gene = rownames(tt_genot),\n",
    "                       tt_genot)\n",
    "tt_genot_df$analysis <- 'ascl_vs_gli_glmqlf'"
   ]
  },
  {
   "cell_type": "code",
   "execution_count": null,
   "metadata": {
    "ExecuteTime": {
     "end_time": "2020-01-21T13:37:12.778819Z",
     "start_time": "2020-01-21T13:37:14.864Z"
    },
    "scrolled": true
   },
   "outputs": [],
   "source": [
    "hist(tt_genot$table$PValue, 50)\n",
    "hist(tt_genot$table$FDR, 50)\n",
    "plotSmear(qlf_genot)"
   ]
  },
  {
   "cell_type": "code",
   "execution_count": null,
   "metadata": {
    "ExecuteTime": {
     "end_time": "2020-01-21T13:39:31.260845Z",
     "start_time": "2020-01-21T13:39:32.908Z"
    }
   },
   "outputs": [],
   "source": [
    "# Heat map of top 50 differentially expressed genes\n",
    "logCPM <- cpm(dge, prior.count=2, log=TRUE)\n",
    "rownames(logCPM) <- rownames(dge$counts)\n",
    "colnames(logCPM) <- rownames(dge$samples)\n",
    "## table is already sorted\n",
    "o <- head(rownames(tt_genot$table), 50)\n",
    "logCPM <- logCPM[o,]\n",
    "logCPM <- t(scale(t(logCPM)))\n",
    "col.pan <- gplots::colorpanel(100, \"blue\", \"white\", \"red\")\n",
    "## sampling only 100 cells\n",
    "set.seed(1)\n",
    "logCPM <- logCPM[,sample(1:ncol(logCPM), 100)]\n",
    "pheatmap::pheatmap(logCPM, color = col.pan,\n",
    "         annotation_col = dge$samples[,c('cluster', 'batch_group', 'type')])"
   ]
  },
  {
   "cell_type": "code",
   "execution_count": null,
   "metadata": {},
   "outputs": [],
   "source": []
  },
  {
   "cell_type": "markdown",
   "metadata": {
    "ExecuteTime": {
     "end_time": "2020-01-20T14:55:33.585685Z",
     "start_time": "2020-01-20T14:54:58.043Z"
    }
   },
   "source": [
    "                    Use Logistic regression\n",
    "In this case, we require 20% of the cells in either Ascl1 or Gli1 to express the gene.\n",
    "Note about differential expression results: it hasthe following columns,\n",
    "- gene: the gene symbol\n",
    "- p_val : p_val (unadjusted)\n",
    "- avg_logFC : log fold-chage of the average expression between the two groups. Positive values indicate that the feature is more highly expressed in the first group.\n",
    "- pct.1 : The percentage of cells where the feature is detected in the first group\n",
    "- pct.2 : The percentage of cells where the feature is detected in the second group\n",
    "- p_val_adj : Adjusted p-value, based on bonferroni correction using all features in the dataset.\n",
    "- analysis: a tag describing the analysis carried out"
   ]
  },
  {
   "cell_type": "code",
   "execution_count": null,
   "metadata": {
    "ExecuteTime": {
     "end_time": "2020-01-21T13:11:02.660402Z",
     "start_time": "2020-01-21T13:10:26.987Z"
    }
   },
   "outputs": [],
   "source": [
    "                    # Compute DEG betwee Gli vs Ascl independently of clusters\n",
    "Idents(pbmc.combined) = \"orig.ident\"\n",
    "pbmc.combined@meta.data$alt_batch = alt_batch\n",
    "\n",
    "# Compute genes\n",
    "markers_all = FindMarkers(pbmc.combined,\n",
    "                       ident.1 =  'Ascl1',\n",
    "                       ident.2 = 'Gli1',\n",
    "                       test.use = \"LR\",\n",
    "                       latent.vars = \"alt_batch\",\n",
    "                       min.pct = 0.2)\n",
    "\n",
    "markers_all[order(markers_all$p_val_adj),] %>% filter(p_val < 0.05)\n",
    "markers_all = data.frame(gene = rownames(markers_all),\n",
    "                      markers_all)"
   ]
  },
  {
   "cell_type": "code",
   "execution_count": null,
   "metadata": {
    "ExecuteTime": {
     "end_time": "2020-01-21T13:11:33.169684Z",
     "start_time": "2020-01-21T13:11:19.124Z"
    }
   },
   "outputs": [],
   "source": [
    "                    ## DEG for Ascl vs Gli for cluster ndNSC\n",
    "DefaultAssay(pbmc.combined) = \"RNA\"\n",
    "Idents(pbmc.combined) = 'combi'\n",
    "markers_ndNSC = FindMarkers(pbmc.combined,\n",
    "                       ident.1 =  'Ascl1_ndNSC',\n",
    "                       ident.2 = 'Gli1_ndNSC',\n",
    "                       test.use = \"LR\",\n",
    "                       latent.vars = \"alt_batch\",\n",
    "                       min.pct = 0.2)\n",
    "markers_ndNSC[order(markers_ndNSC$p_val_adj),] %>% filter(p_val < 0.05)\n",
    "markers_ndNSC = data.frame(gene = rownames(markers_ndNSC),\n",
    "                      markers_ndNSC)"
   ]
  },
  {
   "cell_type": "code",
   "execution_count": null,
   "metadata": {},
   "outputs": [],
   "source": [
    "                    ## DEG for Ascl vs Gli for cluster dNSC\n",
    "DefaultAssay(pbmc.combined) = \"RNA\"\n",
    "Idents(pbmc.combined) = 'combi'\n",
    "markers_dNSC = FindMarkers(pbmc.combined,\n",
    "                       ident.1 =  'Ascl1_dNSC',\n",
    "                       ident.2 = 'Gli1_dNSC',\n",
    "                       test.use = \"LR\",\n",
    "                       latent.vars = \"alt_batch\",\n",
    "                       min.pct = 0.2)\n",
    "markers_dNSC[order(markers_dNSC$p_val_adj),] %>% filter(p_val < 0.05)\n",
    "markers_dNSC = data.frame(gene = rownames(markers_dNSC),\n",
    "                      markers_dNSC)"
   ]
  }
 ],
 "metadata": {
  "hide_input": false,
  "kernelspec": {
   "display_name": "R",
   "language": "R",
   "name": "ir"
  },
  "language_info": {
   "codemirror_mode": "r",
   "file_extension": ".r",
   "mimetype": "text/x-r-source",
   "name": "R",
   "pygments_lexer": "r",
   "version": "3.6.1"
  },
  "toc": {
   "base_numbering": 1,
   "nav_menu": {},
   "number_sections": true,
   "sideBar": true,
   "skip_h1_title": false,
   "title_cell": "Table of Contents",
   "title_sidebar": "Contents",
   "toc_cell": false,
   "toc_position": {},
   "toc_section_display": true,
   "toc_window_display": false
  }
 },
 "nbformat": 4,
 "nbformat_minor": 4
}
