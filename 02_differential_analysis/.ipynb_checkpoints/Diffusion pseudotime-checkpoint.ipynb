{
 "cells": [
  {
   "cell_type": "code",
   "execution_count": null,
   "metadata": {
    "ExecuteTime": {
     "end_time": "2020-01-22T16:42:30.076008Z",
     "start_time": "2020-01-22T16:42:23.077Z"
    }
   },
   "outputs": [],
   "source": [
    "library(fastICA)\n",
    "library(dplyr)\n",
    "library(Seurat)\n",
    "library(ggplot2)"
   ]
  },
  {
   "cell_type": "code",
   "execution_count": null,
   "metadata": {
    "ExecuteTime": {
     "end_time": "2020-01-22T16:42:37.001869Z",
     "start_time": "2020-01-22T16:42:26.071Z"
    }
   },
   "outputs": [],
   "source": [
    "load(\"../data/SO_Gli_Ascl_comb_int.Robj\")\n",
    "df = pbmc.combined@assays$RNA@data %>% as.data.frame\n",
    "\n",
    "# fastICA\n",
    "coordinatesData = Embeddings(object = pbmc.combined, reduction = \"umap\") %>% data.frame\n",
    "set.seed(1)\n",
    "a = fastICA(df, 2, alg.typ = \"deflation\", fun = \"logcosh\",\n",
    "             alpha = 1, method = \"C\", row.norm = FALSE, maxit = 200,\n",
    "             tol = 0.0001, verbose = FALSE)\n",
    "\n",
    "# add pseudotime values\n",
    "coordinatesData$pseudotime <- a$A[1,]\n",
    "pbmc.combined@meta.data$pseudotime <- a$A[1,]\n",
    "p <- ggplot(coordinatesData, aes(UMAP_1, UMAP_2)) + \n",
    "  geom_point(shape=21, size=4, colour = \"black\",\n",
    "             aes(fill=pseudotime), alpha=0.7) +\n",
    "  scale_fill_gradient(low=\"yellow\", high=\"blue\") +\n",
    "  theme_classic()\n",
    "p"
   ]
  }
 ],
 "metadata": {
  "hide_input": false,
  "kernelspec": {
   "display_name": "R",
   "language": "R",
   "name": "ir"
  },
  "language_info": {
   "codemirror_mode": "r",
   "file_extension": ".r",
   "mimetype": "text/x-r-source",
   "name": "R",
   "pygments_lexer": "r",
   "version": "3.6.1"
  },
  "toc": {
   "base_numbering": 1,
   "nav_menu": {},
   "number_sections": true,
   "sideBar": true,
   "skip_h1_title": false,
   "title_cell": "Table of Contents",
   "title_sidebar": "Contents",
   "toc_cell": false,
   "toc_position": {},
   "toc_section_display": true,
   "toc_window_display": false
  }
 },
 "nbformat": 4,
 "nbformat_minor": 4
}
