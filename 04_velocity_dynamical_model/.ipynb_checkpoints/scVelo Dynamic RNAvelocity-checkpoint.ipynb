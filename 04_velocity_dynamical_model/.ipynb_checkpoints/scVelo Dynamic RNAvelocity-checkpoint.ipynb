{
 "cells": [
  {
   "cell_type": "code",
   "execution_count": null,
   "metadata": {
    "ExecuteTime": {
     "end_time": "2020-01-22T15:27:29.776791Z",
     "start_time": "2020-01-22T15:27:27.446644Z"
    }
   },
   "outputs": [],
   "source": [
    "import scvelo as scv\n",
    "import scanpy as sc\n",
    "import pandas as pd\n",
    "import numpy as np\n",
    "import os\n",
    "import loompy"
   ]
  },
  {
   "cell_type": "markdown",
   "metadata": {},
   "source": [
    "# scVelo"
   ]
  },
  {
   "cell_type": "code",
   "execution_count": null,
   "metadata": {
    "ExecuteTime": {
     "end_time": "2020-01-22T15:27:35.938796Z",
     "start_time": "2020-01-22T15:27:32.764034Z"
    }
   },
   "outputs": [],
   "source": [
    "# Load rawcounts already processed\n",
    "adata = sc.read(\"../data/data_RNAvelocity/processed_counts.txt\",sep=' ')\n",
    "\n",
    "# Since python like cells as rows -> transpose matrix\n",
    "adata = adata.T\n",
    "\n",
    "# Insert umap coordinates from SO\n",
    "umap_cord = pd.read_csv(\"../data/data_RNAvelocity/coordinates_umap_scvelo.txt\", sep=\",\") \n",
    "adata.obsm[\"X_umap\"] = umap_cord.iloc[:,0:2].values\n",
    "\n",
    "# Read metadata\n",
    "metadata = pd.read_csv(\"../data/data_RNAvelocity/metadata_GEO.txt\", sep= \",\")"
   ]
  },
  {
   "cell_type": "code",
   "execution_count": null,
   "metadata": {
    "ExecuteTime": {
     "end_time": "2020-01-22T15:27:38.212834Z",
     "start_time": "2020-01-22T15:27:35.942134Z"
    },
    "scrolled": true
   },
   "outputs": [],
   "source": [
    "# Add metadata file (OBS)\n",
    "metadata = pd.DataFrame(metadata)\n",
    "adata.obs[\"batch_group\"] = metadata[\"batch_group\"].values\n",
    "adata.obs[\"cluster\"] = umap_cord.iloc[:,2].values\n",
    "\n",
    "# Add features (VAR)\n",
    "feat = pd.read_csv(\"../data/data_RNAvelocity/processed_counts.txt\", sep= \" \")\n",
    "feat = feat.index\n",
    "feat = pd.DataFrame(feat)\n",
    "feat = pd.DataFrame({\"feature\" : feat.iloc[:,0]})\n",
    "adata.var[\"features\"] = feat.values"
   ]
  },
  {
   "cell_type": "code",
   "execution_count": null,
   "metadata": {
    "ExecuteTime": {
     "end_time": "2020-01-22T15:29:52.098975Z",
     "start_time": "2020-01-22T15:27:38.215277Z"
    }
   },
   "outputs": [],
   "source": [
    "                                    # Read LOOM file\n",
    "ldata = scv.read(\"../data/data_RNAvelocity/s_un_am_allgenes.loom\", cache=True)\n",
    "# Merge adata with loom file\n",
    "adata = scv.utils.merge(adata, ldata)"
   ]
  },
  {
   "cell_type": "code",
   "execution_count": null,
   "metadata": {
    "ExecuteTime": {
     "end_time": "2020-01-22T15:30:00.443136Z",
     "start_time": "2020-01-22T15:29:52.101440Z"
    }
   },
   "outputs": [],
   "source": [
    "#we compute the first- and second-order moments (basically means and variances) for velocity estimation:\n",
    "scv.pp.moments(adata)"
   ]
  },
  {
   "cell_type": "code",
   "execution_count": null,
   "metadata": {
    "ExecuteTime": {
     "end_time": "2020-01-22T15:41:00.219822Z",
     "start_time": "2020-01-22T15:30:00.446322Z"
    }
   },
   "outputs": [],
   "source": [
    "                                        # Estimates of velocity\n",
    "#For steady state model\n",
    "#scv.tl.velocity(adata, mode='steady_state')\n",
    "\n",
    "#For dynamic model run \n",
    "scv.tl.recover_dynamics(adata)\n",
    "scv.tl.velocity(adata, mode='dynamical')\n",
    "\n",
    "#The velocities are stored in adata.layers just like the count matrices.\n",
    "scv.tl.velocity_graph(adata)"
   ]
  },
  {
   "cell_type": "code",
   "execution_count": null,
   "metadata": {
    "ExecuteTime": {
     "end_time": "2020-01-22T15:41:02.037694Z",
     "start_time": "2020-01-22T15:41:00.223073Z"
    }
   },
   "outputs": [],
   "source": [
    "# Computes confidence of velocities\n",
    "scv.tl.velocity_confidence(adata)\n",
    "\n",
    "scv.pl.scatter(adata, color='velocity_length', perc=[10,98], size= 100)\n",
    "scv.pl.scatter(adata, color='velocity_confidence', perc=[2,98], size= 100)"
   ]
  },
  {
   "cell_type": "code",
   "execution_count": null,
   "metadata": {
    "ExecuteTime": {
     "end_time": "2020-01-22T15:41:03.221650Z",
     "start_time": "2020-01-22T15:41:02.039536Z"
    }
   },
   "outputs": [],
   "source": [
    "# Extract highly variable genes\n",
    "scv.pp.filter_genes_dispersion(adata)\n",
    "HVG = adata.var[adata.var[\"velocity_genes\"] == True].index"
   ]
  },
  {
   "cell_type": "code",
   "execution_count": null,
   "metadata": {
    "ExecuteTime": {
     "end_time": "2020-01-22T15:41:03.228082Z",
     "start_time": "2020-01-22T15:41:03.223641Z"
    }
   },
   "outputs": [],
   "source": [
    "len(HVG)"
   ]
  },
  {
   "cell_type": "code",
   "execution_count": null,
   "metadata": {
    "ExecuteTime": {
     "end_time": "2020-01-22T15:41:06.100360Z",
     "start_time": "2020-01-22T15:41:03.230653Z"
    }
   },
   "outputs": [],
   "source": [
    "scv.pl.velocity_embedding_stream(adata, basis='umap', color = \"cluster\",                                 \n",
    "                                 size = 80.0, alpha = 0.8,\n",
    "                                 palette= ['#A1DAB4','#FEE391','#41B6C4','#1D91C0'], legend_loc = \"none\")"
   ]
  },
  {
   "cell_type": "code",
   "execution_count": null,
   "metadata": {
    "ExecuteTime": {
     "end_time": "2020-01-22T15:41:06.560851Z",
     "start_time": "2020-01-22T15:41:06.102260Z"
    }
   },
   "outputs": [],
   "source": [
    "# Compute pseudotime\n",
    "scv.tl.terminal_states(adata)\n",
    "scv.tl.velocity_pseudotime(adata)\n",
    "\n",
    "scv.pl.scatter(adata, color='velocity_pseudotime', color_map='bwr')"
   ]
  },
  {
   "cell_type": "code",
   "execution_count": null,
   "metadata": {
    "ExecuteTime": {
     "end_time": "2020-01-22T15:41:06.985251Z",
     "start_time": "2020-01-22T15:41:06.562436Z"
    }
   },
   "outputs": [],
   "source": [
    "# graoh with root and end cells\n",
    "\n",
    "scv.pl.scatter(adata, color=['root_cells', 'end_points'])"
   ]
  },
  {
   "cell_type": "code",
   "execution_count": null,
   "metadata": {
    "ExecuteTime": {
     "end_time": "2020-01-22T15:41:06.990347Z",
     "start_time": "2020-01-22T15:41:06.986814Z"
    }
   },
   "outputs": [],
   "source": [
    "scv.logging.print_versions()"
   ]
  },
  {
   "cell_type": "markdown",
   "metadata": {},
   "source": [
    "# Plot expression of a gene"
   ]
  },
  {
   "cell_type": "code",
   "execution_count": null,
   "metadata": {
    "ExecuteTime": {
     "start_time": "2020-01-22T15:27:35.204Z"
    }
   },
   "outputs": [],
   "source": [
    "# Visualization\n",
    "#scv.pl.velocity(adata, var_names=['Stmn1'])\n",
    "#scv.pl.velocity_graph(adata)"
   ]
  }
 ],
 "metadata": {
  "hide_input": false,
  "kernelspec": {
   "display_name": "Python 3",
   "language": "python",
   "name": "python3"
  },
  "language_info": {
   "codemirror_mode": {
    "name": "ipython",
    "version": 3
   },
   "file_extension": ".py",
   "mimetype": "text/x-python",
   "name": "python",
   "nbconvert_exporter": "python",
   "pygments_lexer": "ipython3",
   "version": "3.6.9"
  },
  "toc": {
   "base_numbering": 1,
   "nav_menu": {
    "height": "12px",
    "width": "160px"
   },
   "number_sections": true,
   "sideBar": true,
   "skip_h1_title": false,
   "title_cell": "Table of Contents",
   "title_sidebar": "Contents",
   "toc_cell": false,
   "toc_position": {
    "height": "calc(100% - 180px)",
    "left": "10px",
    "top": "150px",
    "width": "384px"
   },
   "toc_section_display": true,
   "toc_window_display": true
  }
 },
 "nbformat": 4,
 "nbformat_minor": 2
}
