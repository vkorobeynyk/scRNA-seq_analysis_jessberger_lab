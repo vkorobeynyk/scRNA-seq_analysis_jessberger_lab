{
 "cells": [
  {
   "cell_type": "code",
   "execution_count": 1,
   "metadata": {
    "ExecuteTime": {
     "end_time": "2020-01-22T15:14:56.817699Z",
     "start_time": "2020-01-22T15:14:55.417Z"
    }
   },
   "outputs": [
    {
     "name": "stderr",
     "output_type": "stream",
     "text": [
      "Loading required package: Matrix\n",
      "Registered S3 method overwritten by 'R.oo':\n",
      "  method        from       \n",
      "  throw.default R.methodsS3\n",
      "\n",
      "Attaching package: ‘dplyr’\n",
      "\n",
      "The following objects are masked from ‘package:stats’:\n",
      "\n",
      "    filter, lag\n",
      "\n",
      "The following objects are masked from ‘package:base’:\n",
      "\n",
      "    intersect, setdiff, setequal, union\n",
      "\n"
     ]
    }
   ],
   "source": [
    "library(velocyto.R)\n",
    "library(Seurat)\n",
    "library(dplyr)"
   ]
  },
  {
   "cell_type": "markdown",
   "metadata": {},
   "source": [
    "# Load data "
   ]
  },
  {
   "cell_type": "code",
   "execution_count": 10,
   "metadata": {
    "ExecuteTime": {
     "end_time": "2020-01-22T15:18:23.009182Z",
     "start_time": "2020-01-22T15:17:48.065Z"
    }
   },
   "outputs": [
    {
     "name": "stdout",
     "output_type": "stream",
     "text": [
      "reading loom file via hdf5r...\n"
     ]
    }
   ],
   "source": [
    "# Load umap coordinates from SO\n",
    "umap_cord = read.table(\"../data/data_RNAvelocity/coordinates_umap_scvelo.txt\", sep=\",\") %>% as.data.frame \n",
    "umap_cord$ident = NULL\n",
    "\n",
    "# Read loom file\n",
    "file = read.loom.matrices(\"../data/data_RNAvelocity/s_un_am_allgenes.loom\")\n",
    "\n",
    "# Load So\n",
    "load(\"../data/SO_Gli_Ascl_comb_int.Robj\")\n",
    "\n",
    "# Annotate spliced and unspliced data\n",
    "s_data = data.frame(file$spliced)\n",
    "un_data = data.frame(file$unspliced)\n",
    "\n",
    "# attribute column names of spliced and unspliced data to have cell names \n",
    "cells = colnames(pbmc.combined)\n",
    "cells = sub(\"X\",\"\",cells)\n",
    "colnames(s_data) = cells\n",
    "colnames(un_data) = cells\n",
    "s_data = as.matrix(s_data)\n",
    "un_data = as.matrix(un_data)\n",
    "\n",
    "# Annotate distance between cells\n",
    "pca_values = Embeddings(pbmc.combined, reduction = \"pca\")\n",
    "\n",
    "seurat_clusters = pbmc.combined@meta.data$combi\n",
    "names(seurat_clusters) = colnames(pbmc.combined)\n",
    "\n",
    "# Compute distance between cells and change clusters to colors\n",
    "cell.dist <- as.dist(1-armaCor(t(pca_values)))\n",
    "\n",
    "cell.colors = vector()\n",
    "cell.colors = ifelse(grepl(\"Ascl1\", names(seurat_clusters)), \"#4393C3\", \"#D6604D\")\n",
    "names(cell.colors) = names(seurat_clusters)"
   ]
  },
  {
   "cell_type": "code",
   "execution_count": null,
   "metadata": {
    "ExecuteTime": {
     "end_time": "2020-01-22T15:15:35.281362Z",
     "start_time": "2020-01-22T15:14:55.420Z"
    }
   },
   "outputs": [],
   "source": [
    "# Filter genes by average expression\n",
    "set.seed(1)\n",
    "s_data <- filter.genes.by.cluster.expression(s_data,seurat_clusters,min.max.cluster.average = 0.2)\n",
    "un_data <- filter.genes.by.cluster.expression(un_data,seurat_clusters,min.max.cluster.average = 0.05)\n",
    "length(intersect(rownames(s_data),rownames(un_data)))"
   ]
  },
  {
   "cell_type": "code",
   "execution_count": null,
   "metadata": {
    "ExecuteTime": {
     "end_time": "2020-01-22T15:15:35.283074Z",
     "start_time": "2020-01-22T15:14:55.422Z"
    }
   },
   "outputs": [],
   "source": [
    "# Velocity for every cell\n",
    "set.seed(1)\n",
    "fit.quantile <- 0.02\n",
    "rvel.cd <- gene.relative.velocity.estimates(s_data,un_data,deltaT=1,kCells=25,cell.dist=cell.dist,\n",
    "                                            fit.quantile=fit.quantile, n.cores = 8)\n",
    "\n",
    "# Visualization\n",
    "show.velocity.on.embedding.cor(umap_cord %>% as.matrix,rvel.cd,n=300,scale='sqrt',cell.colors=ac(cell.colors),cex=1,\n",
    "                               arrow.scale=4,arrow.lwd=1,do.par=T, cell.border.alpha = 0.1)"
   ]
  },
  {
   "cell_type": "code",
   "execution_count": null,
   "metadata": {
    "ExecuteTime": {
     "end_time": "2020-01-22T15:15:35.284805Z",
     "start_time": "2020-01-22T15:14:55.423Z"
    }
   },
   "outputs": [],
   "source": [
    "# Velocity for a particular gene\n",
    "gene <- \"Thrsp\"\n",
    "gene.relative.velocity.estimates(s_data,un_data,deltaT=1,kCells = 20,kGenes=1,fit.quantile=fit.quantile,\n",
    "                                 cell.emb=umap_cord,cell.colors=cell.colors,cell.dist=cell.dist,\n",
    "                                 show.gene=gene,old.fit=rvel.cd,do.par=T)"
   ]
  }
 ],
 "metadata": {
  "hide_input": false,
  "kernelspec": {
   "display_name": "R",
   "language": "R",
   "name": "ir"
  },
  "language_info": {
   "codemirror_mode": "r",
   "file_extension": ".r",
   "mimetype": "text/x-r-source",
   "name": "R",
   "pygments_lexer": "r",
   "version": "3.6.1"
  },
  "toc": {
   "base_numbering": 1,
   "nav_menu": {},
   "number_sections": true,
   "sideBar": true,
   "skip_h1_title": false,
   "title_cell": "Table of Contents",
   "title_sidebar": "Contents",
   "toc_cell": false,
   "toc_position": {},
   "toc_section_display": true,
   "toc_window_display": false
  }
 },
 "nbformat": 4,
 "nbformat_minor": 4
}
