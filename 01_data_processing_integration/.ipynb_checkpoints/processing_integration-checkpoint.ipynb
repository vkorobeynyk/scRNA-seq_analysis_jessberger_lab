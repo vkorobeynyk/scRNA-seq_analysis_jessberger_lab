{
 "cells": [
  {
   "cell_type": "code",
   "execution_count": 1,
   "metadata": {
    "ExecuteTime": {
     "end_time": "2020-01-24T11:18:16.253056Z",
     "start_time": "2020-01-24T11:18:05.874Z"
    },
    "scrolled": true
   },
   "outputs": [
    {
     "name": "stderr",
     "output_type": "stream",
     "text": [
      "Registered S3 method overwritten by 'R.oo':\n",
      "  method        from       \n",
      "  throw.default R.methodsS3\n",
      "Loading required package: SingleCellExperiment\n",
      "Loading required package: SummarizedExperiment\n",
      "Loading required package: GenomicRanges\n",
      "Loading required package: stats4\n",
      "Loading required package: BiocGenerics\n",
      "Loading required package: parallel\n",
      "\n",
      "Attaching package: ‘BiocGenerics’\n",
      "\n",
      "The following objects are masked from ‘package:parallel’:\n",
      "\n",
      "    clusterApply, clusterApplyLB, clusterCall, clusterEvalQ,\n",
      "    clusterExport, clusterMap, parApply, parCapply, parLapply,\n",
      "    parLapplyLB, parRapply, parSapply, parSapplyLB\n",
      "\n",
      "The following objects are masked from ‘package:stats’:\n",
      "\n",
      "    IQR, mad, sd, var, xtabs\n",
      "\n",
      "The following objects are masked from ‘package:base’:\n",
      "\n",
      "    anyDuplicated, append, as.data.frame, basename, cbind, colnames,\n",
      "    dirname, do.call, duplicated, eval, evalq, Filter, Find, get, grep,\n",
      "    grepl, intersect, is.unsorted, lapply, Map, mapply, match, mget,\n",
      "    order, paste, pmax, pmax.int, pmin, pmin.int, Position, rank,\n",
      "    rbind, Reduce, rownames, sapply, setdiff, sort, table, tapply,\n",
      "    union, unique, unsplit, which, which.max, which.min\n",
      "\n",
      "Loading required package: S4Vectors\n",
      "\n",
      "Attaching package: ‘S4Vectors’\n",
      "\n",
      "The following object is masked from ‘package:base’:\n",
      "\n",
      "    expand.grid\n",
      "\n",
      "Loading required package: IRanges\n",
      "Loading required package: GenomeInfoDb\n",
      "Loading required package: Biobase\n",
      "Welcome to Bioconductor\n",
      "\n",
      "    Vignettes contain introductory material; view with\n",
      "    'browseVignettes()'. To cite Bioconductor, see\n",
      "    'citation(\"Biobase\")', and for packages 'citation(\"pkgname\")'.\n",
      "\n",
      "Loading required package: DelayedArray\n",
      "Loading required package: matrixStats\n",
      "\n",
      "Attaching package: ‘matrixStats’\n",
      "\n",
      "The following objects are masked from ‘package:Biobase’:\n",
      "\n",
      "    anyMissing, rowMedians\n",
      "\n",
      "Loading required package: BiocParallel\n",
      "\n",
      "Attaching package: ‘DelayedArray’\n",
      "\n",
      "The following objects are masked from ‘package:matrixStats’:\n",
      "\n",
      "    colMaxs, colMins, colRanges, rowMaxs, rowMins, rowRanges\n",
      "\n",
      "The following objects are masked from ‘package:base’:\n",
      "\n",
      "    aperm, apply, rowsum\n",
      "\n",
      "\n",
      "Attaching package: ‘SummarizedExperiment’\n",
      "\n",
      "The following object is masked from ‘package:Seurat’:\n",
      "\n",
      "    Assays\n",
      "\n",
      "Loading required package: ggplot2\n",
      "\n",
      "Attaching package: ‘dplyr’\n",
      "\n",
      "The following object is masked from ‘package:matrixStats’:\n",
      "\n",
      "    count\n",
      "\n",
      "The following object is masked from ‘package:Biobase’:\n",
      "\n",
      "    combine\n",
      "\n",
      "The following objects are masked from ‘package:GenomicRanges’:\n",
      "\n",
      "    intersect, setdiff, union\n",
      "\n",
      "The following object is masked from ‘package:GenomeInfoDb’:\n",
      "\n",
      "    intersect\n",
      "\n",
      "The following objects are masked from ‘package:IRanges’:\n",
      "\n",
      "    collapse, desc, intersect, setdiff, slice, union\n",
      "\n",
      "The following objects are masked from ‘package:S4Vectors’:\n",
      "\n",
      "    first, intersect, rename, setdiff, setequal, union\n",
      "\n",
      "The following objects are masked from ‘package:BiocGenerics’:\n",
      "\n",
      "    combine, intersect, setdiff, union\n",
      "\n",
      "The following objects are masked from ‘package:stats’:\n",
      "\n",
      "    filter, lag\n",
      "\n",
      "The following objects are masked from ‘package:base’:\n",
      "\n",
      "    intersect, setdiff, setequal, union\n",
      "\n",
      "\n",
      "Attaching package: ‘cowplot’\n",
      "\n",
      "The following object is masked from ‘package:ggplot2’:\n",
      "\n",
      "    ggsave\n",
      "\n",
      "Loading required package: kSamples\n",
      "Loading required package: SuppDists\n"
     ]
    }
   ],
   "source": [
    "library(Seurat)\n",
    "library(scater)\n",
    "library(dplyr)\n",
    "library(cowplot)\n",
    "library(CellMixS)"
   ]
  },
  {
   "cell_type": "markdown",
   "metadata": {},
   "source": [
    "# Technical QC"
   ]
  },
  {
   "cell_type": "code",
   "execution_count": null,
   "metadata": {
    "ExecuteTime": {
     "end_time": "2020-01-24T11:08:34.078214Z",
     "start_time": "2020-01-24T11:08:03.267Z"
    }
   },
   "outputs": [],
   "source": [
    "pbmc_files = list()\n",
    "\n",
    "for (file_name in list.files(\"../data\", pattern = \"txt\"))\n",
    "{\n",
    "    file = read.delim(file.path(\"../data\", file_name))\n",
    "    rownames(file) = as.vector(file[,1]) %>% make.unique\n",
    "    file = file[,-c(1,2)]\n",
    "    pbmc = CreateSeuratObject(counts = file, min.cells = 5, min.features = 200)\n",
    "    \n",
    "    ##### QC\n",
    "    # Check for % of mitotic genes\n",
    "    # FeatureScatter is typically used to visualize feature-feature relationships, but can be used\n",
    "    # for anything calculated by the object, i.e. columns in object metadata, PC scores etc.\n",
    "    pbmc[[\"percent.mt\"]] <- PercentageFeatureSet(pbmc, pattern = \"^mt-\")\n",
    "    plot1 = FeatureScatter(pbmc, feature1 = \"nCount_RNA\", feature2 = \"percent.mt\",)\n",
    "    plot2 = FeatureScatter(pbmc, feature1 = \"nCount_RNA\", feature2 = \"nFeature_RNA\")\n",
    "    plot3 = VlnPlot(pbmc, features = c(\"nFeature_RNA\", \"nCount_RNA\", \"percent.mt\"), ncol = 3)\n",
    "    pbmc_files[[paste(file_name)]] = list(pbmc = pbmc,\n",
    "                                          plots_SO_before_filtering = plot_grid(plot1, plot2, plot3, nrow = 3, labels = file_name))\n",
    "    message(file_name)\n",
    "}"
   ]
  },
  {
   "cell_type": "code",
   "execution_count": null,
   "metadata": {
    "ExecuteTime": {
     "end_time": "2020-01-24T11:08:53.926458Z",
     "start_time": "2020-01-24T11:08:03.268Z"
    },
    "scrolled": false
   },
   "outputs": [],
   "source": [
    "                    # Filtering based on SO\n",
    "\n",
    "for (i in 1:length(pbmc_files))\n",
    "{\n",
    "    pbmc = pbmc_files[[i]][[\"pbmc\"]]\n",
    "    \n",
    "    # Insert parameters \n",
    "    if (i == 1)\n",
    "    {\n",
    "        message(paste(\"Insert the following values for filtering\"))\n",
    "        nfeature_lower = as.integer(readline(\"min number of feature \"))\n",
    "        nfeature_upper = as.integer(readline(\"max number of feature \"))\n",
    "        perc_mitotic = as.integer(readline(\"max percentage of mitotic genes \"))\n",
    "        ncount = as.integer(readline(\"min number of counts to keep \"))\n",
    "    }\n",
    "\n",
    "    # Subset SO \n",
    "    pbmc = subset(pbmc, subset = nFeature_RNA > nfeature_lower & \n",
    "                  nFeature_RNA < nfeature_upper & \n",
    "                  percent.mt < perc_mitotic &\n",
    "                 nCount_RNA > ncount)\n",
    "    \n",
    "    # Subset SO with nCount which are between median - 1.5starndart deviation and median + 1.5sd \n",
    "    pbmc = subset(pbmc, subset = \n",
    "            nCount_RNA < median(pbmc@meta.data$nCount_RNA) + 1.5 * sd(pbmc@meta.data$nCount_RNA) &\n",
    "            nCount_RNA > median(pbmc@meta.data$nCount_RNA) - 1.5 * sd(pbmc@meta.data$nCount_RNA))\n",
    "    \n",
    "    pbmc_files[[i]][[\"pbmc\"]] = pbmc\n",
    "    \n",
    "    # Create plots with plots post-filtering\n",
    "    pbmc[[\"percent.mt\"]] <- PercentageFeatureSet(pbmc, pattern = \"^mt-\")\n",
    "    plot1 = FeatureScatter(pbmc, feature1 = \"nCount_RNA\", feature2 = \"percent.mt\",)\n",
    "    plot2 = FeatureScatter(pbmc, feature1 = \"nCount_RNA\", feature2 = \"nFeature_RNA\")\n",
    "    plot3 = VlnPlot(pbmc, features = c(\"nFeature_RNA\", \"nCount_RNA\", \"percent.mt\"), ncol = 3)\n",
    "    pbmc_files[[i]][[\"plots_SO_after_filtering\"]] = plot_grid(plot1, plot2, plot3, nrow = 3, labels = names(pbmc_files)[i])\n",
    "    \n",
    "}\n",
    "\n",
    "# Save as pdf non-filtered data sets (1 page per data set)\n",
    "pdf(\"plots_SO_after_filtering.pdf\")\n",
    "    for (i in 1:length(pbmc_files))\n",
    "    {\n",
    "        print(pbmc_files[[i]][[\"plots_SO_after_filtering\"]])\n",
    "    }\n",
    "dev.off()\n",
    "message(\"plots saved as pdf! Check them\")\n",
    "\n",
    "# We filtering according to the following criteria:\n",
    "# nfeature_lower = 1000\n",
    "# nfeature_upper = 6000\n",
    "# perc_mitotic = 8\n",
    "# ncount = 50000"
   ]
  },
  {
   "cell_type": "code",
   "execution_count": null,
   "metadata": {
    "ExecuteTime": {
     "end_time": "2020-01-24T11:09:19.929243Z",
     "start_time": "2020-01-24T11:08:03.269Z"
    }
   },
   "outputs": [],
   "source": [
    "                    # Create single cell Experiment for scater and create plots\n",
    "\n",
    "for (i in 1:length(pbmc_files))\n",
    "{\n",
    "    pbmc.sce = as.SingleCellExperiment(x = pbmc_files[[i]][[\"pbmc\"]])\n",
    "\n",
    "    pbmc.sce <- calculateQCMetrics(pbmc.sce)\n",
    "\n",
    "    plot1 = plotExprsFreqVsMean(pbmc.sce)\n",
    "    plot2 = plotScater(pbmc.sce, colour_by = \"ident\", nfeatures = 500, exprs_values = \"counts\")\n",
    "    pbmc_files[[i]][[\"plots_scater\"]] = plot_grid(plot1, plot2, nrow = 2, labels = names(pbmc_files)[i])\n",
    "    \n",
    "}\n",
    "\n",
    "# Save as pdf non-filtered data sets (1 page per data set)\n",
    "pdf(\"plots_scater.pdf\")\n",
    "    for (i in 1:length(pbmc_files))\n",
    "    {\n",
    "        print(pbmc_files[[i]][[\"plots_scater\"]])\n",
    "    }\n",
    "dev.off()\n",
    "message(\"Scater plots saved as pdf! Check them\")"
   ]
  },
  {
   "cell_type": "code",
   "execution_count": null,
   "metadata": {
    "ExecuteTime": {
     "end_time": "2020-01-24T11:09:21.932829Z",
     "start_time": "2020-01-24T11:08:03.270Z"
    }
   },
   "outputs": [],
   "source": [
    "                # Filtering based on scater (we only analyzed 2 plots)\n",
    "\n",
    "for (i in 1:length(pbmc_files))\n",
    "{\n",
    "    pbmc = pbmc_files[[i]][[\"pbmc\"]]\n",
    "    \n",
    "    # Filtering according to plotScateer\n",
    "    pbmc.sce = as.SingleCellExperiment(x = pbmc)\n",
    "\n",
    "    pbmc.sce <- calculateQCMetrics(pbmc.sce)\n",
    "    \n",
    "    # Eliminate cells in which 500 features account for more than 95% of library\n",
    "    x = plotScater(pbmc.sce, colour_by = \"ident\", nfeatures = 500, exprs_values = \"counts\")\n",
    "    y = x$data[which(x$data$Feature == 500 & x$data$Proportion_Library > 0.95 ),]\n",
    "    \n",
    "    # Subset SO\n",
    "    if (dim(y)[1] != 0)\n",
    "    {\n",
    "        cells_keep = Cells(pbmc)[-y$Cell]\n",
    "        pbmc = subset(pbmc, cells = cells_keep)\n",
    "    }\n",
    "    \n",
    "    pbmc_files[[i]][[\"pbmc\"]] = pbmc\n",
    "}"
   ]
  },
  {
   "cell_type": "code",
   "execution_count": null,
   "metadata": {
    "ExecuteTime": {
     "end_time": "2020-01-24T11:09:21.971942Z",
     "start_time": "2020-01-24T11:08:03.271Z"
    }
   },
   "outputs": [],
   "source": [
    "# Sum the total number of cells in the end\n",
    "a = 0\n",
    "for (i in 1:7)\n",
    "{\n",
    "    x = print(Cells(pbmc_files[[i]]$pbmc) %>% length)\n",
    "    a = a + x\n",
    "}\n",
    "a"
   ]
  },
  {
   "cell_type": "markdown",
   "metadata": {},
   "source": [
    "# Seurat integration of all data sets"
   ]
  },
  {
   "cell_type": "code",
   "execution_count": null,
   "metadata": {
    "ExecuteTime": {
     "end_time": "2020-01-24T11:09:28.244573Z",
     "start_time": "2020-01-24T11:08:03.272Z"
    }
   },
   "outputs": [],
   "source": [
    "# Normalize and Compute Variable features for each dataset separately\n",
    "for (i in 1:length(pbmc_files)) \n",
    "{\n",
    "    pbmc_files[[i]][[\"pbmc\"]] <- NormalizeData(pbmc_files[[i]][[\"pbmc\"]], verbose = FALSE)\n",
    "    pbmc_files[[i]][[\"pbmc\"]] <- FindVariableFeatures(pbmc_files[[i]][[\"pbmc\"]], selection.method = \"vst\", \n",
    "        nfeatures = 2000, verbose = FALSE)\n",
    "}"
   ]
  },
  {
   "cell_type": "code",
   "execution_count": null,
   "metadata": {
    "ExecuteTime": {
     "end_time": "2020-01-24T11:10:44.061484Z",
     "start_time": "2020-01-24T11:08:03.274Z"
    }
   },
   "outputs": [],
   "source": [
    "                    # Perform integration\n",
    "\n",
    "# Create a list with pbmc objects\n",
    "SO = list()\n",
    "for (i in 1:length(pbmc_files)) \n",
    "{\n",
    "    SO[[i]] = pbmc_files[[names(pbmc_files)[i]]][[\"pbmc\"]]\n",
    "    names(SO)[[i]] = names(pbmc_files)[i]\n",
    "}\n",
    "\n",
    "# Here use k = 50 since one of dataset has only 63 cells and will give an error in this step\n",
    "pbmc_anchors <- FindIntegrationAnchors(object.list = SO, dims = 1:30, k.filter = 50, anchor.features = 2000)\n",
    "\n",
    "SO <- IntegrateData(anchorset = pbmc_anchors, dims = 1:30)"
   ]
  },
  {
   "cell_type": "code",
   "execution_count": null,
   "metadata": {
    "ExecuteTime": {
     "end_time": "2020-01-24T11:11:05.014807Z",
     "start_time": "2020-01-24T11:08:03.275Z"
    }
   },
   "outputs": [],
   "source": [
    "DefaultAssay(SO) <- \"integrated\"\n",
    "n_PC = 1:15\n",
    "\n",
    "SO = FindVariableFeatures(SO, selection.method = \"vst\", nfeatures = 2000)\n",
    "\n",
    "# Run the standard workflow for visualization and clustering\n",
    "SO <- ScaleData(SO, verbose = FALSE)\n",
    "SO <- RunPCA(SO, npcs = 30, verbose = FALSE, set.seed = 3)\n",
    "# t-SNE and Clustering\n",
    "SO <- FindNeighbors(SO, reduction = \"pca\", dims = n_PC, set.seed = 3)\n",
    "SO <- FindClusters(SO, resolution = 0.6, set.seed = 3)\n",
    "SO <- RunTSNE(SO, reduction = \"pca\", dims = n_PC,set.seed = 3)\n",
    "SO <- RunUMAP(SO, reduction = \"pca\", dims = n_PC, set.seed = 3)"
   ]
  },
  {
   "cell_type": "markdown",
   "metadata": {},
   "source": [
    "# Batch effect\n"
   ]
  },
  {
   "cell_type": "markdown",
   "metadata": {},
   "source": [
    "!!! Here we use Biologically filtered dataset "
   ]
  },
  {
   "cell_type": "markdown",
   "metadata": {},
   "source": [
    "## Non-corrected data"
   ]
  },
  {
   "cell_type": "code",
   "execution_count": null,
   "metadata": {
    "ExecuteTime": {
     "end_time": "2020-01-24T11:11:21.004123Z",
     "start_time": "2020-01-24T11:08:03.276Z"
    }
   },
   "outputs": [],
   "source": [
    "load(\"../data/SO_Gli_Ascl_comb_int.Robj\")\n",
    "DefaultAssay(pbmc.combined) <- \"RNA\"\n",
    "\n",
    "# Run the standard workflow for visualization and clustering\n",
    "pbmc.combined <- ScaleData(pbmc.combined, verbose = FALSE)\n",
    "pbmc.combined <- RunPCA(pbmc.combined, npcs = 30, verbose = FALSE, set.seed = 3)\n",
    "# t-SNE and Clustering\n",
    "pbmc.combined <- FindNeighbors(pbmc.combined, reduction = \"pca\", dims = 1:15, set.seed = 3)\n",
    "pbmc.combined <- FindClusters(pbmc.combined, resolution = 0.6, set.seed = 3)\n",
    "pbmc.combined <- RunTSNE(pbmc.combined, reduction = \"pca\", dims = 1:15,set.seed = 3)\n",
    "pbmc.combined <- RunUMAP(pbmc.combined, reduction = \"pca\", dims = 1:15, set.seed = 3)"
   ]
  },
  {
   "cell_type": "code",
   "execution_count": null,
   "metadata": {
    "ExecuteTime": {
     "end_time": "2020-01-24T11:12:23.076447Z",
     "start_time": "2020-01-24T11:08:03.277Z"
    }
   },
   "outputs": [],
   "source": [
    "# Compute cms\n",
    "\n",
    "pbmc.combined.cell.type.sce = as.SingleCellExperiment(pbmc.combined)\n",
    "pbmc.combined.cell.type.sce.cms <- cms(pbmc.combined.cell.type.sce,dim_red = \"PCA\", k =  175,group = \"orig.ident\", n_dim = 10, cell_min = 5 )\n",
    "visOverview(pbmc.combined.cell.type.sce.cms, dim_red = \"UMAP\" , \"batch_group\")"
   ]
  },
  {
   "cell_type": "code",
   "execution_count": null,
   "metadata": {},
   "outputs": [],
   "source": [
    "visHist(pbmc.combined.cell.type.sce.cms)"
   ]
  },
  {
   "cell_type": "markdown",
   "metadata": {},
   "source": [
    "## Corrected data"
   ]
  },
  {
   "cell_type": "code",
   "execution_count": null,
   "metadata": {
    "ExecuteTime": {
     "end_time": "2020-01-24T11:12:25.327251Z",
     "start_time": "2020-01-24T11:08:03.278Z"
    }
   },
   "outputs": [],
   "source": [
    "load(\"../data/SO_Gli_Ascl_comb_int.Robj\")"
   ]
  },
  {
   "cell_type": "code",
   "execution_count": null,
   "metadata": {
    "ExecuteTime": {
     "end_time": "2020-01-24T11:13:37.624783Z",
     "start_time": "2020-01-24T11:08:03.280Z"
    }
   },
   "outputs": [],
   "source": [
    "# Compute cms\n",
    "\n",
    "pbmc.combined.cell.type.sce = as.SingleCellExperiment(pbmc.combined)\n",
    "pbmc.combined.cell.type.sce.cms <- cms(pbmc.combined.cell.type.sce,dim_red = \"PCA\", k =  175,group = \"orig.ident\", n_dim = 10, cell_min = 5 )\n",
    "visOverview(pbmc.combined.cell.type.sce.cms, dim_red = \"UMAP\" , \"batch_group\")"
   ]
  }
 ],
 "metadata": {
  "hide_input": false,
  "kernelspec": {
   "display_name": "R",
   "language": "R",
   "name": "ir"
  },
  "language_info": {
   "codemirror_mode": "r",
   "file_extension": ".r",
   "mimetype": "text/x-r-source",
   "name": "R",
   "pygments_lexer": "r",
   "version": "3.6.1"
  },
  "toc": {
   "base_numbering": 1,
   "nav_menu": {},
   "number_sections": true,
   "sideBar": true,
   "skip_h1_title": false,
   "title_cell": "Table of Contents",
   "title_sidebar": "Contents",
   "toc_cell": false,
   "toc_position": {},
   "toc_section_display": true,
   "toc_window_display": false
  }
 },
 "nbformat": 4,
 "nbformat_minor": 4
}
